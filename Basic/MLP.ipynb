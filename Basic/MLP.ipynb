{
  "nbformat": 4,
  "nbformat_minor": 0,
  "metadata": {
    "colab": {
      "provenance": [],
      "authorship_tag": "ABX9TyPnu/5PrS9/vRgP6IOnCgpQ"
    },
    "kernelspec": {
      "name": "python3",
      "display_name": "Python 3"
    },
    "language_info": {
      "name": "python"
    }
  },
  "cells": [
    {
      "cell_type": "code",
      "execution_count": null,
      "metadata": {
        "id": "zY0cbzUe9LCG"
      },
      "outputs": [],
      "source": [
        "import numpy\n",
        "import pandas\n",
        "import matplotlib.pyplot as plt\n",
        "import tensorflow as tf\n",
        "import keras"
      ]
    },
    {
      "cell_type": "code",
      "source": [
        "from keras.utils import plot_model\n",
        "from keras.models import Model\n",
        "from keras.layers import Input\n",
        "from keras.layers import Dense\n"
      ],
      "metadata": {
        "id": "ODHNuKZR_tDR"
      },
      "execution_count": null,
      "outputs": []
    },
    {
      "cell_type": "code",
      "source": [
        "'''\n",
        "this mlp has 10 inputs and 3 hidden layers (10,20,10) and a binary class output\n",
        "\n",
        "visible  ------------>    h1  ------------>     h2   ------------>   h3  -------->  output\n",
        "shape = (10,)          10 units              20 units             10 units          1 unit\n",
        "Input                   Dense                  Dense                Dense            Dense\n",
        "act = none              relu                   relu                 relu            sigmoid\n",
        "\n",
        "'''"
      ],
      "metadata": {
        "id": "YwBvFcCL-MEO"
      },
      "execution_count": null,
      "outputs": []
    },
    {
      "cell_type": "code",
      "source": [
        "visible = Input(shape=(10,))\n",
        "h1 = Dense(10, activation = 'relu')(visible)\n",
        "h2 = Dense(20, activation = 'relu')(h1)\n",
        "h3 = Dense(10, activation = 'relu')(h2)\n",
        "out = Dense(1, activation = 'sigmoid')(h3)"
      ],
      "metadata": {
        "id": "WjLm8CAV95Qs"
      },
      "execution_count": null,
      "outputs": []
    },
    {
      "cell_type": "code",
      "source": [
        "'''\n",
        "our model needs only the inputs and outputs parts to be assembled:\n",
        "\n",
        "                   |------------model-------------|\n",
        "                   |----inputs----|----outputs----|\n",
        "                   |    visible   |      out      |\n",
        "'''"
      ],
      "metadata": {
        "id": "4wu8aDcNC8lO"
      },
      "execution_count": null,
      "outputs": []
    },
    {
      "cell_type": "code",
      "source": [
        "model = Model(inputs = visible, outputs = out)"
      ],
      "metadata": {
        "id": "YC98k8PXCvRI"
      },
      "execution_count": null,
      "outputs": []
    },
    {
      "cell_type": "code",
      "source": [
        "model.summary()"
      ],
      "metadata": {
        "colab": {
          "base_uri": "https://localhost:8080/"
        },
        "id": "okRfORf4ETT9",
        "outputId": "2519aa2d-a697-4137-867d-00cce4133c4b"
      },
      "execution_count": null,
      "outputs": [
        {
          "output_type": "stream",
          "name": "stdout",
          "text": [
            "Model: \"model_1\"\n",
            "_________________________________________________________________\n",
            " Layer (type)                Output Shape              Param #   \n",
            "=================================================================\n",
            " input_2 (InputLayer)        [(None, 10)]              0         \n",
            "                                                                 \n",
            " dense_4 (Dense)             (None, 10)                110       \n",
            "                                                                 \n",
            " dense_5 (Dense)             (None, 20)                220       \n",
            "                                                                 \n",
            " dense_6 (Dense)             (None, 10)                210       \n",
            "                                                                 \n",
            " dense_7 (Dense)             (None, 1)                 11        \n",
            "                                                                 \n",
            "=================================================================\n",
            "Total params: 551 (2.15 KB)\n",
            "Trainable params: 551 (2.15 KB)\n",
            "Non-trainable params: 0 (0.00 Byte)\n",
            "_________________________________________________________________\n"
          ]
        }
      ]
    },
    {
      "cell_type": "code",
      "source": [
        "plot_model(model, to_file = 'mlp_graph.png')"
      ],
      "metadata": {
        "colab": {
          "base_uri": "https://localhost:8080/",
          "height": 466
        },
        "id": "hxRyHDpZEi1A",
        "outputId": "eaffa852-d76a-4817-9dee-32151df24e36"
      },
      "execution_count": null,
      "outputs": [
        {
          "output_type": "execute_result",
          "data": {
            "image/png": "[encoded data removed]",
            "text/plain": [
              "<IPython.core.display.Image object>"
            ]
          },
          "metadata": {},
          "execution_count": 15
        }
      ]
    }
  ]
}
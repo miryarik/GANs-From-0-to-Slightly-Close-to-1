{
  "nbformat": 4,
  "nbformat_minor": 0,
  "metadata": {
    "colab": {
      "provenance": [],
      "authorship_tag": "ABX9TyMRyO+/hWXzstN3xOhqgkMS"
    },
    "kernelspec": {
      "name": "python3",
      "display_name": "Python 3"
    },
    "language_info": {
      "name": "python"
    }
  },
  "cells": [
    {
      "cell_type": "code",
      "execution_count": 2,
      "metadata": {
        "id": "q99klPpTgoUz"
      },
      "outputs": [],
      "source": [
        "'''\n",
        "after having understood how we prepare the celeb10 data for the GAN\n",
        "(check CelebA - Preparing the data)\n",
        "we now implement it,\n",
        "\n",
        "we'll first define the D\n",
        "\n",
        "it'll take an input of (80,80,3) - image's pixel data array\n",
        "\n",
        "over 5 conv + leakyrelu layers we'll get\n",
        "\n",
        "80 -> 40 -> 20 -> 10 -> 5\n",
        "\n",
        "then we'll add 1 more similar layer and pass the output to a flatten + dropout + dense\n",
        "\n",
        "add to it adam and compile\n",
        "'''\n",
        "\n",
        "from keras.models import Sequential\n",
        "import keras.layers as KL\n",
        "from keras.optimizers import Adam\n",
        "\n",
        "def make_D(in_shape = (80, 80, 3)):\n",
        "    model = Sequential()\n",
        "\n",
        "    model.add(KL.Conv2D(128, (5,5), padding = 'same', input_shape = in_shape))\n",
        "    model.add(KL.LeakyReLU(alpha = 0.2))\n",
        "\n",
        "    model.add(KL.Conv2D(128, (5,5), strides = (2,2), padding = 'same'))\n",
        "    model.add(KL.LeakyReLU(alpha = 0.2))\n",
        "\n",
        "    model.add(KL.Conv2D(128, (5,5), strides = (2,2), padding = 'same'))\n",
        "    model.add(KL.LeakyReLU(alpha = 0.2))\n",
        "\n",
        "    model.add(KL.Conv2D(128, (5,5), strides = (2,2), padding = 'same'))\n",
        "    model.add(KL.LeakyReLU(alpha = 0.2))\n",
        "\n",
        "    model.add(KL.Conv2D(128, (5,5), strides = (2,2), padding = 'same'))\n",
        "    model.add(KL.LeakyReLU(alpha = 0.2))\n",
        "\n",
        "    model.add(KL.Flatten())\n",
        "    model.add(KL.Dropout(0.4))\n",
        "    model.add(KL.Dense(1, activation = 'sigmoid'))\n",
        "\n",
        "    opt = Adam(learning_rate = 0.0002, beta_1 = 0.5)\n",
        "    model.compile(loss = 'binary_crossentropy', optimizer = opt, meter = ['accuracy'])\n",
        "    return model"
      ]
    },
    {
      "cell_type": "code",
      "source": [
        "'''\n",
        "and now the generator --- tomorrow morning In Sha Allah\n",
        "'''\n"
      ],
      "metadata": {
        "id": "3fgRzHJpk2QI"
      },
      "execution_count": null,
      "outputs": []
    }
  ]
}

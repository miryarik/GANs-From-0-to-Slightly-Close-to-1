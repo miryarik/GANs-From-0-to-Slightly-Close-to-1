{
  "nbformat": 4,
  "nbformat_minor": 0,
  "metadata": {
    "colab": {
      "provenance": [],
      "authorship_tag": "ABX9TyMbl0I/1T/kxLJWRG4vQ9Uw"
    },
    "kernelspec": {
      "name": "python3",
      "display_name": "Python 3"
    },
    "language_info": {
      "name": "python"
    }
  },
  "cells": [
    {
      "cell_type": "code",
      "execution_count": null,
      "metadata": {
        "id": "62NqblvYPm5R"
      },
      "outputs": [],
      "source": [
        "from keras.layers import Input\n",
        "from keras.layers import Dense\n",
        "from keras.layers import LSTM\n",
        "from keras.utils import plot_model\n",
        "from keras.models import Model"
      ]
    },
    {
      "cell_type": "code",
      "source": [
        "'''\n",
        "model arch :\n",
        "\n",
        "       visible                                     LSTM                         Full Connection\n",
        "input of 100 time steps                          10 units                       D(10) --> D(1)\n",
        "no activation, shape = 100,1                    no activation                  relu ---> sigmoid\n",
        "'''"
      ],
      "metadata": {
        "id": "onM3_6_oRO38"
      },
      "execution_count": null,
      "outputs": []
    },
    {
      "cell_type": "code",
      "source": [
        "visible = Input(shape=(100,1))\n",
        "hidden1 = LSTM(10)(visible)\n",
        "hidden2 = Dense(10, activation = 'relu')(hidden1)\n",
        "out = Dense(1, activation = 'sigmoid')(hidden2)"
      ],
      "metadata": {
        "id": "SdSlnrB3PtBs"
      },
      "execution_count": null,
      "outputs": []
    },
    {
      "cell_type": "code",
      "source": [
        "model = Model(inputs = visible, outputs = out)"
      ],
      "metadata": {
        "id": "n0Bcch4rSWXg"
      },
      "execution_count": null,
      "outputs": []
    },
    {
      "cell_type": "code",
      "source": [
        "model.summary()"
      ],
      "metadata": {
        "colab": {
          "base_uri": "https://localhost:8080/"
        },
        "id": "GQ69bAVsSef5",
        "outputId": "7184a1fd-d1f9-453b-8ce3-9891c55a5956"
      },
      "execution_count": null,
      "outputs": [
        {
          "output_type": "stream",
          "name": "stdout",
          "text": [
            "Model: \"model\"\n",
            "_________________________________________________________________\n",
            " Layer (type)                Output Shape              Param #   \n",
            "=================================================================\n",
            " input_2 (InputLayer)        [(None, 100, 1)]          0         \n",
            "                                                                 \n",
            " lstm_1 (LSTM)               (None, 10)                480       \n",
            "                                                                 \n",
            " dense (Dense)               (None, 10)                110       \n",
            "                                                                 \n",
            " dense_1 (Dense)             (None, 1)                 11        \n",
            "                                                                 \n",
            "=================================================================\n",
            "Total params: 601 (2.35 KB)\n",
            "Trainable params: 601 (2.35 KB)\n",
            "Non-trainable params: 0 (0.00 Byte)\n",
            "_________________________________________________________________\n"
          ]
        }
      ]
    },
    {
      "cell_type": "code",
      "source": [
        "plot_model(model)"
      ],
      "metadata": {
        "colab": {
          "base_uri": "https://localhost:8080/",
          "height": 369
        },
        "id": "sPeQpY3JSo11",
        "outputId": "069fb250-8de5-49fa-c0c0-f5d894100579"
      },
      "execution_count": null,
      "outputs": [
        {
          "output_type": "execute_result",
          "data": {
            "image/png": "[encoded data removed]",
            "text/plain": [
              "<IPython.core.display.Image object>"
            ]
          },
          "metadata": {},
          "execution_count": 8
        }
      ]
    }
  ]
}